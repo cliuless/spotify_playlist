{
 "cells": [
  {
   "cell_type": "code",
   "execution_count": 1,
   "metadata": {},
   "outputs": [],
   "source": [
    "import spotipy\n",
    "from spotipy.oauth2 import SpotifyClientCredentials\n",
    "import pandas as pd\n",
    "import numpy as np\n",
    "import json"
   ]
  },
  {
   "cell_type": "code",
   "execution_count": 2,
   "metadata": {},
   "outputs": [],
   "source": [
    "pd.options.display.max_rows = 100\n",
    "pd.options.display.max_columns = 200"
   ]
  },
  {
   "cell_type": "markdown",
   "metadata": {},
   "source": [
    "## Authentication"
   ]
  },
  {
   "cell_type": "code",
   "execution_count": 4,
   "metadata": {},
   "outputs": [],
   "source": [
    "spotify_url = 'https://open.spotify.com/user/spotify/playlist/37i9dQZF1DX0XUsuxWHRQd'\n",
    "client_id = '2f2a2d3c5b2f4621ae1758439dae20c4'\n",
    "client_secret = '361c2f88f4c643ec83c89e772bfe12fe'\n"
   ]
  },
  {
   "cell_type": "code",
   "execution_count": 5,
   "metadata": {},
   "outputs": [],
   "source": [
    "client_credentials_manager = SpotifyClientCredentials(client_id, client_secret)\n",
    "sp = spotipy.Spotify(client_credentials_manager=client_credentials_manager)"
   ]
  },
  {
   "cell_type": "markdown",
   "metadata": {},
   "source": [
    "## Create Spotipy object based on desired 'Rap Caviar' Public Spotify Playlist"
   ]
  },
  {
   "cell_type": "code",
   "execution_count": 6,
   "metadata": {},
   "outputs": [],
   "source": [
    "playlist = sp.user_playlist(spotify_url.split('/')[4],spotify_url.split('/')[6])"
   ]
  },
  {
   "cell_type": "code",
   "execution_count": 7,
   "metadata": {},
   "outputs": [
    {
     "data": {
      "text/html": [
       "<div>\n",
       "<style scoped>\n",
       "    .dataframe tbody tr th:only-of-type {\n",
       "        vertical-align: middle;\n",
       "    }\n",
       "\n",
       "    .dataframe tbody tr th {\n",
       "        vertical-align: top;\n",
       "    }\n",
       "\n",
       "    .dataframe thead th {\n",
       "        text-align: right;\n",
       "    }\n",
       "</style>\n",
       "<table border=\"1\" class=\"dataframe\">\n",
       "  <thead>\n",
       "    <tr style=\"text-align: right;\">\n",
       "      <th></th>\n",
       "      <th>collaborative</th>\n",
       "      <th>description</th>\n",
       "      <th>external_urls.spotify</th>\n",
       "      <th>followers.href</th>\n",
       "      <th>followers.total</th>\n",
       "      <th>href</th>\n",
       "      <th>id</th>\n",
       "      <th>images</th>\n",
       "      <th>name</th>\n",
       "      <th>owner.display_name</th>\n",
       "      <th>owner.external_urls.spotify</th>\n",
       "      <th>owner.href</th>\n",
       "      <th>owner.id</th>\n",
       "      <th>owner.type</th>\n",
       "      <th>owner.uri</th>\n",
       "      <th>primary_color</th>\n",
       "      <th>public</th>\n",
       "      <th>snapshot_id</th>\n",
       "      <th>tracks.href</th>\n",
       "      <th>tracks.items</th>\n",
       "      <th>tracks.limit</th>\n",
       "      <th>tracks.next</th>\n",
       "      <th>tracks.offset</th>\n",
       "      <th>tracks.previous</th>\n",
       "      <th>tracks.total</th>\n",
       "      <th>type</th>\n",
       "      <th>uri</th>\n",
       "    </tr>\n",
       "  </thead>\n",
       "  <tbody>\n",
       "    <tr>\n",
       "      <th>0</th>\n",
       "      <td>False</td>\n",
       "      <td>Cardi B's new album is here &amp; watch A$AP Rocky...</td>\n",
       "      <td>https://open.spotify.com/user/spotify/playlist...</td>\n",
       "      <td>None</td>\n",
       "      <td>9284552</td>\n",
       "      <td>https://api.spotify.com/v1/users/spotify/playl...</td>\n",
       "      <td>37i9dQZF1DX0XUsuxWHRQd</td>\n",
       "      <td>[{'height': 300, 'url': 'https://i.scdn.co/ima...</td>\n",
       "      <td>RapCaviar</td>\n",
       "      <td>Spotify</td>\n",
       "      <td>https://open.spotify.com/user/spotify</td>\n",
       "      <td>https://api.spotify.com/v1/users/spotify</td>\n",
       "      <td>spotify</td>\n",
       "      <td>user</td>\n",
       "      <td>spotify:user:spotify</td>\n",
       "      <td>#F49B23</td>\n",
       "      <td>True</td>\n",
       "      <td>Dln7J3OaGBs740nvBhrNDM7d9Ix6FySL9J5TkfY989cEsx...</td>\n",
       "      <td>https://api.spotify.com/v1/users/spotify/playl...</td>\n",
       "      <td>[{'added_at': '2018-04-11T21:34:13Z', 'added_b...</td>\n",
       "      <td>100</td>\n",
       "      <td>None</td>\n",
       "      <td>0</td>\n",
       "      <td>None</td>\n",
       "      <td>50</td>\n",
       "      <td>playlist</td>\n",
       "      <td>spotify:user:spotify:playlist:37i9dQZF1DX0XUsu...</td>\n",
       "    </tr>\n",
       "  </tbody>\n",
       "</table>\n",
       "</div>"
      ],
      "text/plain": [
       "   collaborative                                        description  \\\n",
       "0          False  Cardi B's new album is here & watch A$AP Rocky...   \n",
       "\n",
       "                               external_urls.spotify followers.href  \\\n",
       "0  https://open.spotify.com/user/spotify/playlist...           None   \n",
       "\n",
       "   followers.total                                               href  \\\n",
       "0          9284552  https://api.spotify.com/v1/users/spotify/playl...   \n",
       "\n",
       "                       id                                             images  \\\n",
       "0  37i9dQZF1DX0XUsuxWHRQd  [{'height': 300, 'url': 'https://i.scdn.co/ima...   \n",
       "\n",
       "        name owner.display_name            owner.external_urls.spotify  \\\n",
       "0  RapCaviar            Spotify  https://open.spotify.com/user/spotify   \n",
       "\n",
       "                                 owner.href owner.id owner.type  \\\n",
       "0  https://api.spotify.com/v1/users/spotify  spotify       user   \n",
       "\n",
       "              owner.uri primary_color  public  \\\n",
       "0  spotify:user:spotify       #F49B23    True   \n",
       "\n",
       "                                         snapshot_id  \\\n",
       "0  Dln7J3OaGBs740nvBhrNDM7d9Ix6FySL9J5TkfY989cEsx...   \n",
       "\n",
       "                                         tracks.href  \\\n",
       "0  https://api.spotify.com/v1/users/spotify/playl...   \n",
       "\n",
       "                                        tracks.items  tracks.limit  \\\n",
       "0  [{'added_at': '2018-04-11T21:34:13Z', 'added_b...           100   \n",
       "\n",
       "  tracks.next  tracks.offset tracks.previous  tracks.total      type  \\\n",
       "0        None              0            None            50  playlist   \n",
       "\n",
       "                                                 uri  \n",
       "0  spotify:user:spotify:playlist:37i9dQZF1DX0XUsu...  "
      ]
     },
     "execution_count": 7,
     "metadata": {},
     "output_type": "execute_result"
    }
   ],
   "source": [
    "#take a peek at playlist variable\n",
    "pd.io.json.json_normalize(playlist)"
   ]
  },
  {
   "cell_type": "code",
   "execution_count": 8,
   "metadata": {},
   "outputs": [
    {
     "data": {
      "text/plain": [
       "50"
      ]
     },
     "execution_count": 8,
     "metadata": {},
     "output_type": "execute_result"
    }
   ],
   "source": [
    "#check how many tracks can be found within the items hierarchy\n",
    "num_songs = len(playlist['tracks']['items'])\n",
    "num_songs"
   ]
  },
  {
   "cell_type": "code",
   "execution_count": 9,
   "metadata": {},
   "outputs": [
    {
     "data": {
      "text/html": [
       "<div>\n",
       "<style scoped>\n",
       "    .dataframe tbody tr th:only-of-type {\n",
       "        vertical-align: middle;\n",
       "    }\n",
       "\n",
       "    .dataframe tbody tr th {\n",
       "        vertical-align: top;\n",
       "    }\n",
       "\n",
       "    .dataframe thead th {\n",
       "        text-align: right;\n",
       "    }\n",
       "</style>\n",
       "<table border=\"1\" class=\"dataframe\">\n",
       "  <thead>\n",
       "    <tr style=\"text-align: right;\">\n",
       "      <th></th>\n",
       "      <th>added_at</th>\n",
       "      <th>added_by</th>\n",
       "      <th>is_local</th>\n",
       "      <th>primary_color</th>\n",
       "      <th>track.album.album_type</th>\n",
       "      <th>track.album.artists</th>\n",
       "      <th>track.album.available_markets</th>\n",
       "      <th>track.album.external_urls.spotify</th>\n",
       "      <th>track.album.href</th>\n",
       "      <th>track.album.id</th>\n",
       "      <th>track.album.images</th>\n",
       "      <th>track.album.name</th>\n",
       "      <th>track.album.release_date</th>\n",
       "      <th>track.album.release_date_precision</th>\n",
       "      <th>track.album.type</th>\n",
       "      <th>track.album.uri</th>\n",
       "      <th>track.artists</th>\n",
       "      <th>track.available_markets</th>\n",
       "      <th>track.disc_number</th>\n",
       "      <th>track.duration_ms</th>\n",
       "      <th>track.episode</th>\n",
       "      <th>track.explicit</th>\n",
       "      <th>track.external_ids.isrc</th>\n",
       "      <th>track.external_urls.spotify</th>\n",
       "      <th>track.href</th>\n",
       "      <th>track.id</th>\n",
       "      <th>track.is_local</th>\n",
       "      <th>track.name</th>\n",
       "      <th>track.popularity</th>\n",
       "      <th>track.preview_url</th>\n",
       "      <th>track.track</th>\n",
       "      <th>track.track_number</th>\n",
       "      <th>track.type</th>\n",
       "      <th>track.uri</th>\n",
       "      <th>video_thumbnail.url</th>\n",
       "    </tr>\n",
       "  </thead>\n",
       "  <tbody>\n",
       "    <tr>\n",
       "      <th>0</th>\n",
       "      <td>2018-04-11T21:34:13Z</td>\n",
       "      <td>None</td>\n",
       "      <td>False</td>\n",
       "      <td>#b70174</td>\n",
       "      <td>single</td>\n",
       "      <td>[{'external_urls': {'spotify': 'https://open.s...</td>\n",
       "      <td>[]</td>\n",
       "      <td>https://open.spotify.com/album/0GqyPabtBnNbl73...</td>\n",
       "      <td>https://api.spotify.com/v1/albums/0GqyPabtBnNb...</td>\n",
       "      <td>0GqyPabtBnNbl73Vivcatv</td>\n",
       "      <td>[{'height': 640, 'url': 'https://i.scdn.co/ima...</td>\n",
       "      <td>Plug Walk</td>\n",
       "      <td>2018-02-08</td>\n",
       "      <td>day</td>\n",
       "      <td>album</td>\n",
       "      <td>spotify:album:0GqyPabtBnNbl73Vivcatv</td>\n",
       "      <td>[{'external_urls': {'spotify': 'https://open.s...</td>\n",
       "      <td>[]</td>\n",
       "      <td>1</td>\n",
       "      <td>175510</td>\n",
       "      <td>False</td>\n",
       "      <td>True</td>\n",
       "      <td>USUM71800892</td>\n",
       "      <td>https://open.spotify.com/track/0gD6lWJhbXHWNVw...</td>\n",
       "      <td>https://api.spotify.com/v1/tracks/0gD6lWJhbXHW...</td>\n",
       "      <td>0gD6lWJhbXHWNVwQziSVvl</td>\n",
       "      <td>False</td>\n",
       "      <td>Plug Walk</td>\n",
       "      <td>90</td>\n",
       "      <td>None</td>\n",
       "      <td>True</td>\n",
       "      <td>1</td>\n",
       "      <td>track</td>\n",
       "      <td>spotify:track:0gD6lWJhbXHWNVwQziSVvl</td>\n",
       "      <td>None</td>\n",
       "    </tr>\n",
       "  </tbody>\n",
       "</table>\n",
       "</div>"
      ],
      "text/plain": [
       "               added_at added_by  is_local primary_color  \\\n",
       "0  2018-04-11T21:34:13Z     None     False       #b70174   \n",
       "\n",
       "  track.album.album_type                                track.album.artists  \\\n",
       "0                 single  [{'external_urls': {'spotify': 'https://open.s...   \n",
       "\n",
       "  track.album.available_markets  \\\n",
       "0                            []   \n",
       "\n",
       "                   track.album.external_urls.spotify  \\\n",
       "0  https://open.spotify.com/album/0GqyPabtBnNbl73...   \n",
       "\n",
       "                                    track.album.href          track.album.id  \\\n",
       "0  https://api.spotify.com/v1/albums/0GqyPabtBnNb...  0GqyPabtBnNbl73Vivcatv   \n",
       "\n",
       "                                  track.album.images track.album.name  \\\n",
       "0  [{'height': 640, 'url': 'https://i.scdn.co/ima...        Plug Walk   \n",
       "\n",
       "  track.album.release_date track.album.release_date_precision  \\\n",
       "0               2018-02-08                                day   \n",
       "\n",
       "  track.album.type                       track.album.uri  \\\n",
       "0            album  spotify:album:0GqyPabtBnNbl73Vivcatv   \n",
       "\n",
       "                                       track.artists track.available_markets  \\\n",
       "0  [{'external_urls': {'spotify': 'https://open.s...                      []   \n",
       "\n",
       "   track.disc_number  track.duration_ms  track.episode  track.explicit  \\\n",
       "0                  1             175510          False            True   \n",
       "\n",
       "  track.external_ids.isrc                        track.external_urls.spotify  \\\n",
       "0            USUM71800892  https://open.spotify.com/track/0gD6lWJhbXHWNVw...   \n",
       "\n",
       "                                          track.href                track.id  \\\n",
       "0  https://api.spotify.com/v1/tracks/0gD6lWJhbXHW...  0gD6lWJhbXHWNVwQziSVvl   \n",
       "\n",
       "   track.is_local track.name  track.popularity track.preview_url  track.track  \\\n",
       "0           False  Plug Walk                90              None         True   \n",
       "\n",
       "   track.track_number track.type                             track.uri  \\\n",
       "0                   1      track  spotify:track:0gD6lWJhbXHWNVwQziSVvl   \n",
       "\n",
       "  video_thumbnail.url  \n",
       "0                None  "
      ]
     },
     "execution_count": 9,
     "metadata": {},
     "output_type": "execute_result"
    }
   ],
   "source": [
    "#take a peek at each individual track\n",
    "pd.io.json.json_normalize(playlist['tracks']['items'][2])"
   ]
  },
  {
   "cell_type": "code",
   "execution_count": 10,
   "metadata": {},
   "outputs": [
    {
     "data": {
      "text/html": [
       "<div>\n",
       "<style scoped>\n",
       "    .dataframe tbody tr th:only-of-type {\n",
       "        vertical-align: middle;\n",
       "    }\n",
       "\n",
       "    .dataframe tbody tr th {\n",
       "        vertical-align: top;\n",
       "    }\n",
       "\n",
       "    .dataframe thead th {\n",
       "        text-align: right;\n",
       "    }\n",
       "</style>\n",
       "<table border=\"1\" class=\"dataframe\">\n",
       "  <thead>\n",
       "    <tr style=\"text-align: right;\">\n",
       "      <th></th>\n",
       "      <th>album.album_type</th>\n",
       "      <th>album.artists</th>\n",
       "      <th>album.available_markets</th>\n",
       "      <th>album.external_urls.spotify</th>\n",
       "      <th>album.href</th>\n",
       "      <th>album.id</th>\n",
       "      <th>album.images</th>\n",
       "      <th>album.name</th>\n",
       "      <th>album.release_date</th>\n",
       "      <th>album.release_date_precision</th>\n",
       "      <th>album.type</th>\n",
       "      <th>album.uri</th>\n",
       "      <th>artists</th>\n",
       "      <th>available_markets</th>\n",
       "      <th>disc_number</th>\n",
       "      <th>duration_ms</th>\n",
       "      <th>episode</th>\n",
       "      <th>explicit</th>\n",
       "      <th>external_ids.isrc</th>\n",
       "      <th>external_urls.spotify</th>\n",
       "      <th>href</th>\n",
       "      <th>id</th>\n",
       "      <th>is_local</th>\n",
       "      <th>name</th>\n",
       "      <th>popularity</th>\n",
       "      <th>preview_url</th>\n",
       "      <th>track</th>\n",
       "      <th>track_number</th>\n",
       "      <th>type</th>\n",
       "      <th>uri</th>\n",
       "    </tr>\n",
       "  </thead>\n",
       "  <tbody>\n",
       "    <tr>\n",
       "      <th>0</th>\n",
       "      <td>single</td>\n",
       "      <td>[{'external_urls': {'spotify': 'https://open.s...</td>\n",
       "      <td>[]</td>\n",
       "      <td>https://open.spotify.com/album/0GqyPabtBnNbl73...</td>\n",
       "      <td>https://api.spotify.com/v1/albums/0GqyPabtBnNb...</td>\n",
       "      <td>0GqyPabtBnNbl73Vivcatv</td>\n",
       "      <td>[{'height': 640, 'url': 'https://i.scdn.co/ima...</td>\n",
       "      <td>Plug Walk</td>\n",
       "      <td>2018-02-08</td>\n",
       "      <td>day</td>\n",
       "      <td>album</td>\n",
       "      <td>spotify:album:0GqyPabtBnNbl73Vivcatv</td>\n",
       "      <td>[{'external_urls': {'spotify': 'https://open.s...</td>\n",
       "      <td>[]</td>\n",
       "      <td>1</td>\n",
       "      <td>175510</td>\n",
       "      <td>False</td>\n",
       "      <td>True</td>\n",
       "      <td>USUM71800892</td>\n",
       "      <td>https://open.spotify.com/track/0gD6lWJhbXHWNVw...</td>\n",
       "      <td>https://api.spotify.com/v1/tracks/0gD6lWJhbXHW...</td>\n",
       "      <td>0gD6lWJhbXHWNVwQziSVvl</td>\n",
       "      <td>False</td>\n",
       "      <td>Plug Walk</td>\n",
       "      <td>90</td>\n",
       "      <td>None</td>\n",
       "      <td>True</td>\n",
       "      <td>1</td>\n",
       "      <td>track</td>\n",
       "      <td>spotify:track:0gD6lWJhbXHWNVwQziSVvl</td>\n",
       "    </tr>\n",
       "  </tbody>\n",
       "</table>\n",
       "</div>"
      ],
      "text/plain": [
       "  album.album_type                                      album.artists  \\\n",
       "0           single  [{'external_urls': {'spotify': 'https://open.s...   \n",
       "\n",
       "  album.available_markets                        album.external_urls.spotify  \\\n",
       "0                      []  https://open.spotify.com/album/0GqyPabtBnNbl73...   \n",
       "\n",
       "                                          album.href                album.id  \\\n",
       "0  https://api.spotify.com/v1/albums/0GqyPabtBnNb...  0GqyPabtBnNbl73Vivcatv   \n",
       "\n",
       "                                        album.images album.name  \\\n",
       "0  [{'height': 640, 'url': 'https://i.scdn.co/ima...  Plug Walk   \n",
       "\n",
       "  album.release_date album.release_date_precision album.type  \\\n",
       "0         2018-02-08                          day      album   \n",
       "\n",
       "                              album.uri  \\\n",
       "0  spotify:album:0GqyPabtBnNbl73Vivcatv   \n",
       "\n",
       "                                             artists available_markets  \\\n",
       "0  [{'external_urls': {'spotify': 'https://open.s...                []   \n",
       "\n",
       "   disc_number  duration_ms  episode  explicit external_ids.isrc  \\\n",
       "0            1       175510    False      True      USUM71800892   \n",
       "\n",
       "                               external_urls.spotify  \\\n",
       "0  https://open.spotify.com/track/0gD6lWJhbXHWNVw...   \n",
       "\n",
       "                                                href                      id  \\\n",
       "0  https://api.spotify.com/v1/tracks/0gD6lWJhbXHW...  0gD6lWJhbXHWNVwQziSVvl   \n",
       "\n",
       "   is_local       name  popularity preview_url  track  track_number   type  \\\n",
       "0     False  Plug Walk          90        None   True             1  track   \n",
       "\n",
       "                                    uri  \n",
       "0  spotify:track:0gD6lWJhbXHWNVwQziSVvl  "
      ]
     },
     "execution_count": 10,
     "metadata": {},
     "output_type": "execute_result"
    }
   ],
   "source": [
    "pd.io.json.json_normalize(playlist['tracks']['items'][2]['track'])"
   ]
  },
  {
   "cell_type": "code",
   "execution_count": 11,
   "metadata": {},
   "outputs": [
    {
     "data": {
      "text/plain": [
       "[{'external_urls': {'spotify': 'https://open.spotify.com/artist/1pPmIToKXyGdsCF6LmqLmI'},\n",
       "  'href': 'https://api.spotify.com/v1/artists/1pPmIToKXyGdsCF6LmqLmI',\n",
       "  'id': '1pPmIToKXyGdsCF6LmqLmI',\n",
       "  'name': 'Rich The Kid',\n",
       "  'type': 'artist',\n",
       "  'uri': 'spotify:artist:1pPmIToKXyGdsCF6LmqLmI'}]"
      ]
     },
     "execution_count": 11,
     "metadata": {},
     "output_type": "execute_result"
    }
   ],
   "source": [
    "#artists- can have multiple artists\n",
    "playlist['tracks']['items'][2]['track']['artists']"
   ]
  },
  {
   "cell_type": "code",
   "execution_count": 205,
   "metadata": {},
   "outputs": [
    {
     "data": {
      "text/plain": [
       "{0, 3, 64, 65}"
      ]
     },
     "execution_count": 205,
     "metadata": {},
     "output_type": "execute_result"
    }
   ],
   "source": [
    "#do tracks have different number of available markets?\n",
    "set([len(playlist['tracks']['items'][i]['track']['available_markets']) \n",
    "     for i in range(0,50)])"
   ]
  },
  {
   "cell_type": "code",
   "execution_count": 674,
   "metadata": {},
   "outputs": [],
   "source": [
    "#getting name\n",
    "track_name = [playlist['tracks']['items'][i]['track']['name'] for i in range(0,num_songs)]\n",
    "track_popularity = [playlist['tracks']['items'][i]['track']['popularity'] for i in range(0,num_songs)]\n",
    "track_duration = [playlist['tracks']['items'][i]['track']['duration_ms'] for i in range(0,num_songs)]\n",
    "track_id = [playlist['tracks']['items'][i]['track']['id'] for i in range(0,num_songs)]\n",
    "#taking only the first artist's name\n",
    "artist_name = [playlist['tracks']['items'][i]['track']['artists'][0]['name'] for i in range(0,num_songs)]\n",
    "artist_name2 = [playlist['tracks']['items'][i]['track']['artists'][0]['name'] if len(playlist['tracks']['items'][i]['track']['artists']) > 1 else \"\" for i in range(0,num_songs)]\n",
    "artist_id = [playlist['tracks']['items'][i]['track']['artists'][0]['id'] for i in range(0,num_songs)]"
   ]
  },
  {
   "cell_type": "code",
   "execution_count": 675,
   "metadata": {},
   "outputs": [
    {
     "data": {
      "text/plain": [
       "[{'external_urls': {'spotify': 'https://open.spotify.com/artist/3TVXtAsR1Inumwj472S9r4'},\n",
       "  'href': 'https://api.spotify.com/v1/artists/3TVXtAsR1Inumwj472S9r4',\n",
       "  'id': '3TVXtAsR1Inumwj472S9r4',\n",
       "  'name': 'Drake',\n",
       "  'type': 'artist',\n",
       "  'uri': 'spotify:artist:3TVXtAsR1Inumwj472S9r4'}]"
      ]
     },
     "execution_count": 675,
     "metadata": {},
     "output_type": "execute_result"
    }
   ],
   "source": [
    "playlist['tracks']['items'][0]['track']['artists']"
   ]
  },
  {
   "cell_type": "code",
   "execution_count": 676,
   "metadata": {},
   "outputs": [],
   "source": [
    "#all albums are at the day precision level\n",
    "album_name = [playlist['tracks']['items'][i]['track']['album']['name'] for i in range(0,num_songs)]\n",
    "album_release_date = [playlist['tracks']['items'][i]['track']['album']['release_date'] for i in range(0,num_songs)]"
   ]
  },
  {
   "cell_type": "markdown",
   "metadata": {},
   "source": [
    "### Artist"
   ]
  },
  {
   "cell_type": "code",
   "execution_count": 677,
   "metadata": {},
   "outputs": [],
   "source": [
    "artist_info = [sp.artist(artist_id[i]) for i in range(0,num_songs)]"
   ]
  },
  {
   "cell_type": "code",
   "execution_count": 678,
   "metadata": {},
   "outputs": [
    {
     "data": {
      "text/plain": [
       "dict_keys(['external_urls', 'followers', 'genres', 'href', 'id', 'images', 'name', 'popularity', 'type', 'uri'])"
      ]
     },
     "execution_count": 678,
     "metadata": {},
     "output_type": "execute_result"
    }
   ],
   "source": [
    "artist_info[0].keys()"
   ]
  },
  {
   "cell_type": "code",
   "execution_count": 679,
   "metadata": {},
   "outputs": [],
   "source": [
    "artist_popularity = [artists_info[i]['popularity'] for i in range(0,num_songs)]\n",
    "artist_followers = [artists_info[i]['followers']['total'] for i in range(0,num_songs)]\n",
    "artist_genres = [artists_info[i]['genres'] for i in range(0,num_songs)]"
   ]
  },
  {
   "cell_type": "code",
   "execution_count": null,
   "metadata": {},
   "outputs": [],
   "source": []
  },
  {
   "cell_type": "code",
   "execution_count": null,
   "metadata": {},
   "outputs": [],
   "source": []
  },
  {
   "cell_type": "code",
   "execution_count": 680,
   "metadata": {},
   "outputs": [],
   "source": [
    "df_track = pd.DataFrame([track_name, \n",
    "                         track_popularity,\n",
    "                        track_duration,\n",
    "                        track_id,\n",
    "                        artist_name,\n",
    "                        artist_name2,\n",
    "                        artist_id,\n",
    "                        album_name,\n",
    "                        album_release_date,]).T\n",
    "\n",
    "df_track = df_track.drop_duplicates()\n",
    "\n",
    "df_track.columns = ['track_name', \n",
    "                         'track_popularity',\n",
    "                        'track_duration',\n",
    "                        'track_id',\n",
    "                        'artist_name',\n",
    "                        'artist_name2',\n",
    "                        'artist_id',\n",
    "                        'album_name',\n",
    "                        'album_release_date']"
   ]
  },
  {
   "cell_type": "code",
   "execution_count": 681,
   "metadata": {},
   "outputs": [],
   "source": [
    "df_artist = pd.DataFrame([artist_name,\n",
    "                         artist_id,\n",
    "                         artist_popularity,\n",
    "                         artist_followers,\n",
    "                         artist_genres]).T\n",
    "\n",
    "# df_artist.iloc[:,:-1] = df_artist.iloc[:,:-1].drop_duplicates()\n",
    "\n",
    "df_artist.columns = ['artist_name',\n",
    "                         'artist_id',\n",
    "                         'artist_popularity',\n",
    "                         'artist_followers',\n",
    "                         'artist_genres']"
   ]
  },
  {
   "cell_type": "code",
   "execution_count": 682,
   "metadata": {
    "scrolled": true
   },
   "outputs": [],
   "source": [
    "df_artist.artist_genres = df_artist.artist_genres.apply(lambda x:\",\".join(map(str,x)))"
   ]
  },
  {
   "cell_type": "code",
   "execution_count": 683,
   "metadata": {},
   "outputs": [],
   "source": [
    "df_artist = pd.concat([df_artist.iloc[:,:-1],df_artist.artist_genres.str.get_dummies(sep = ',')], axis = 1)"
   ]
  },
  {
   "cell_type": "code",
   "execution_count": 684,
   "metadata": {},
   "outputs": [],
   "source": [
    "df_artist = df_artist.drop_duplicates(subset = 'artist_id').reset_index(drop = True)"
   ]
  },
  {
   "cell_type": "markdown",
   "metadata": {},
   "source": [
    "The popularity of a track is a value between 0 and 100, with 100 being the most popular. The popularity is calculated by algorithm and is based, in the most part, on the total number of plays the track has had and how recent those plays are."
   ]
  },
  {
   "cell_type": "markdown",
   "metadata": {},
   "source": [
    "### SQL Database"
   ]
  },
  {
   "cell_type": "code",
   "execution_count": 595,
   "metadata": {},
   "outputs": [],
   "source": [
    "import sqlite3\n",
    "sqlite_file = '/Users/cliuless/Data_Science/360i/mydb'\n",
    "cnx = sqlite3.connect(sqlite_file)\n",
    "c = cnx.cursor()\n",
    "cnx.commit()"
   ]
  },
  {
   "cell_type": "code",
   "execution_count": 596,
   "metadata": {},
   "outputs": [],
   "source": [
    "# df_track.to_sql('track_db', cnx)\n",
    "# #take out list of genre, unsupported by sql\n",
    "# df_artist.loc[:,:'artist_followers'].to_sql('artist_db', cnx)"
   ]
  },
  {
   "cell_type": "code",
   "execution_count": 597,
   "metadata": {},
   "outputs": [
    {
     "data": {
      "text/plain": [
       "(('index', None, None, None, None, None, None),\n",
       " ('track_name', None, None, None, None, None, None),\n",
       " ('track_popularity', None, None, None, None, None, None),\n",
       " ('track_duration', None, None, None, None, None, None),\n",
       " ('track_id', None, None, None, None, None, None),\n",
       " ('artist_name', None, None, None, None, None, None),\n",
       " ('artist_name2', None, None, None, None, None, None),\n",
       " ('artist_id', None, None, None, None, None, None),\n",
       " ('album_name', None, None, None, None, None, None),\n",
       " ('album_release_date', None, None, None, None, None, None))"
      ]
     },
     "execution_count": 597,
     "metadata": {},
     "output_type": "execute_result"
    }
   ],
   "source": [
    "c.execute('''SELECT * FROM track_db''')\n",
    "c.description"
   ]
  },
  {
   "cell_type": "code",
   "execution_count": 598,
   "metadata": {},
   "outputs": [
    {
     "data": {
      "text/plain": [
       "(('index', None, None, None, None, None, None),\n",
       " ('artist_name', None, None, None, None, None, None),\n",
       " ('artist_id', None, None, None, None, None, None),\n",
       " ('artist_popularity', None, None, None, None, None, None),\n",
       " ('artist_followers', None, None, None, None, None, None))"
      ]
     },
     "execution_count": 598,
     "metadata": {},
     "output_type": "execute_result"
    }
   ],
   "source": [
    "c.execute('''SELECT * FROM artist_db''')\n",
    "c.description"
   ]
  },
  {
   "cell_type": "markdown",
   "metadata": {},
   "source": [
    "## How many songs are in the playlist?"
   ]
  },
  {
   "cell_type": "code",
   "execution_count": 599,
   "metadata": {},
   "outputs": [
    {
     "data": {
      "text/plain": [
       "(50,)"
      ]
     },
     "execution_count": 599,
     "metadata": {},
     "output_type": "execute_result"
    }
   ],
   "source": [
    "c.execute('''SELECT COUNT(DISTINCT track_name) FROM track_db''')\n",
    "c.fetchone()"
   ]
  },
  {
   "cell_type": "code",
   "execution_count": 670,
   "metadata": {},
   "outputs": [
    {
     "data": {
      "text/plain": [
       "50"
      ]
     },
     "execution_count": 670,
     "metadata": {},
     "output_type": "execute_result"
    }
   ],
   "source": [
    "df_track.track_name.nunique()"
   ]
  },
  {
   "cell_type": "markdown",
   "metadata": {},
   "source": [
    "## What are the top 5 tracks by artist follower count?"
   ]
  },
  {
   "cell_type": "code",
   "execution_count": 628,
   "metadata": {},
   "outputs": [
    {
     "data": {
      "text/plain": [
       "[('Nice For What', 'Drake', 18532180),\n",
       " (\"God's Plan\", 'Drake', 18532180),\n",
       " ('Try Me', 'The Weeknd', 9954092),\n",
       " ('Stir Fry', 'Migos', 4830383),\n",
       " ('Walk It Talk It', 'Migos', 4830383)]"
      ]
     },
     "execution_count": 628,
     "metadata": {},
     "output_type": "execute_result"
    }
   ],
   "source": [
    "c.execute('''SELECT t.track_name, a.artist_name, a.artist_followers\n",
    "    FROM track_db as t JOIN artist_db as a \n",
    "    ON a.artist_id = t.artist_id\n",
    "    ORDER BY a.artist_followers DESC\n",
    "    LIMIT 5''')\n",
    "cnx.commit()\n",
    "c.fetchall()"
   ]
  },
  {
   "cell_type": "code",
   "execution_count": 652,
   "metadata": {},
   "outputs": [
    {
     "data": {
      "text/html": [
       "<div>\n",
       "<style scoped>\n",
       "    .dataframe tbody tr th:only-of-type {\n",
       "        vertical-align: middle;\n",
       "    }\n",
       "\n",
       "    .dataframe tbody tr th {\n",
       "        vertical-align: top;\n",
       "    }\n",
       "\n",
       "    .dataframe thead th {\n",
       "        text-align: right;\n",
       "    }\n",
       "</style>\n",
       "<table border=\"1\" class=\"dataframe\">\n",
       "  <thead>\n",
       "    <tr style=\"text-align: right;\">\n",
       "      <th></th>\n",
       "      <th>track_name</th>\n",
       "      <th>artist_followers</th>\n",
       "    </tr>\n",
       "  </thead>\n",
       "  <tbody>\n",
       "    <tr>\n",
       "      <th>0</th>\n",
       "      <td>Nice For What</td>\n",
       "      <td>18532180</td>\n",
       "    </tr>\n",
       "    <tr>\n",
       "      <th>1</th>\n",
       "      <td>God's Plan</td>\n",
       "      <td>18532180</td>\n",
       "    </tr>\n",
       "    <tr>\n",
       "      <th>25</th>\n",
       "      <td>Try Me</td>\n",
       "      <td>9954092</td>\n",
       "    </tr>\n",
       "    <tr>\n",
       "      <th>34</th>\n",
       "      <td>Walk It Talk It</td>\n",
       "      <td>4830383</td>\n",
       "    </tr>\n",
       "    <tr>\n",
       "      <th>33</th>\n",
       "      <td>Stir Fry</td>\n",
       "      <td>4830383</td>\n",
       "    </tr>\n",
       "  </tbody>\n",
       "</table>\n",
       "</div>"
      ],
      "text/plain": [
       "         track_name artist_followers\n",
       "0     Nice For What         18532180\n",
       "1        God's Plan         18532180\n",
       "25           Try Me          9954092\n",
       "34  Walk It Talk It          4830383\n",
       "33         Stir Fry          4830383"
      ]
     },
     "execution_count": 652,
     "metadata": {},
     "output_type": "execute_result"
    }
   ],
   "source": [
    "df_track.merge(df_artist, on = 'artist_id').sort_values(\n",
    "    by = 'artist_followers', \n",
    "    ascending = False)[['track_name','artist_followers']].head(5)"
   ]
  },
  {
   "cell_type": "code",
   "execution_count": null,
   "metadata": {},
   "outputs": [],
   "source": []
  },
  {
   "cell_type": "code",
   "execution_count": null,
   "metadata": {},
   "outputs": [],
   "source": []
  },
  {
   "cell_type": "markdown",
   "metadata": {},
   "source": [
    "## Which song is the longest?"
   ]
  },
  {
   "cell_type": "code",
   "execution_count": 668,
   "metadata": {},
   "outputs": [
    {
     "data": {
      "text/plain": [
       "[(332300, 'Rae Sremmurd', 'Powerglide (feat. Juicy J)')]"
      ]
     },
     "execution_count": 668,
     "metadata": {},
     "output_type": "execute_result"
    }
   ],
   "source": [
    "c.execute('''SELECT MAX(track_duration),artist_name, track_name from track_db''')\n",
    "cnx.commit()\n",
    "c.fetchall()"
   ]
  },
  {
   "cell_type": "code",
   "execution_count": 665,
   "metadata": {},
   "outputs": [
    {
     "data": {
      "text/html": [
       "<div>\n",
       "<style scoped>\n",
       "    .dataframe tbody tr th:only-of-type {\n",
       "        vertical-align: middle;\n",
       "    }\n",
       "\n",
       "    .dataframe tbody tr th {\n",
       "        vertical-align: top;\n",
       "    }\n",
       "\n",
       "    .dataframe thead th {\n",
       "        text-align: right;\n",
       "    }\n",
       "</style>\n",
       "<table border=\"1\" class=\"dataframe\">\n",
       "  <thead>\n",
       "    <tr style=\"text-align: right;\">\n",
       "      <th></th>\n",
       "      <th>track_name</th>\n",
       "      <th>artist_name</th>\n",
       "      <th>track_duration</th>\n",
       "    </tr>\n",
       "  </thead>\n",
       "  <tbody>\n",
       "    <tr>\n",
       "      <th>8</th>\n",
       "      <td>Powerglide (feat. Juicy J)</td>\n",
       "      <td>Rae Sremmurd</td>\n",
       "      <td>332300</td>\n",
       "    </tr>\n",
       "  </tbody>\n",
       "</table>\n",
       "</div>"
      ],
      "text/plain": [
       "                   track_name   artist_name track_duration\n",
       "8  Powerglide (feat. Juicy J)  Rae Sremmurd         332300"
      ]
     },
     "execution_count": 665,
     "metadata": {},
     "output_type": "execute_result"
    }
   ],
   "source": [
    "df_track.sort_values(by = 'track_duration', ascending = False)[['track_name','artist_name','track_duration']].head(1)"
   ]
  },
  {
   "cell_type": "code",
   "execution_count": 701,
   "metadata": {},
   "outputs": [
    {
     "data": {
      "text/html": [
       "<div>\n",
       "<style scoped>\n",
       "    .dataframe tbody tr th:only-of-type {\n",
       "        vertical-align: middle;\n",
       "    }\n",
       "\n",
       "    .dataframe tbody tr th {\n",
       "        vertical-align: top;\n",
       "    }\n",
       "\n",
       "    .dataframe thead th {\n",
       "        text-align: right;\n",
       "    }\n",
       "</style>\n",
       "<table border=\"1\" class=\"dataframe\">\n",
       "  <thead>\n",
       "    <tr style=\"text-align: right;\">\n",
       "      <th></th>\n",
       "      <th>track_name</th>\n",
       "      <th>track_popularity</th>\n",
       "      <th>track_duration</th>\n",
       "      <th>artist_name</th>\n",
       "      <th>artist_id</th>\n",
       "      <th>album_release_date</th>\n",
       "      <th>artist_popularity</th>\n",
       "      <th>artist_followers</th>\n",
       "      <th>boston rock</th>\n",
       "      <th>canadian hip hop</th>\n",
       "      <th>canadian pop</th>\n",
       "      <th>dance pop</th>\n",
       "      <th>deep trap</th>\n",
       "      <th>dirty south rap</th>\n",
       "      <th>drill</th>\n",
       "      <th>dwn trap</th>\n",
       "      <th>east coast hip hop</th>\n",
       "      <th>gangster rap</th>\n",
       "      <th>hip hop</th>\n",
       "      <th>indie r&amp;b</th>\n",
       "      <th>pop</th>\n",
       "      <th>pop rap</th>\n",
       "      <th>r&amp;b</th>\n",
       "      <th>rap</th>\n",
       "      <th>southern hip hop</th>\n",
       "      <th>trap music</th>\n",
       "      <th>trap soul</th>\n",
       "      <th>underground hip hop</th>\n",
       "      <th>vapor trap</th>\n",
       "    </tr>\n",
       "  </thead>\n",
       "  <tbody>\n",
       "    <tr>\n",
       "      <th>0</th>\n",
       "      <td>Nice For What</td>\n",
       "      <td>85</td>\n",
       "      <td>210925</td>\n",
       "      <td>Drake</td>\n",
       "      <td>3TVXtAsR1Inumwj472S9r4</td>\n",
       "      <td>2018-04-06</td>\n",
       "      <td>100</td>\n",
       "      <td>18532180</td>\n",
       "      <td>0</td>\n",
       "      <td>1</td>\n",
       "      <td>1</td>\n",
       "      <td>0</td>\n",
       "      <td>0</td>\n",
       "      <td>0</td>\n",
       "      <td>0</td>\n",
       "      <td>0</td>\n",
       "      <td>0</td>\n",
       "      <td>0</td>\n",
       "      <td>1</td>\n",
       "      <td>0</td>\n",
       "      <td>0</td>\n",
       "      <td>1</td>\n",
       "      <td>0</td>\n",
       "      <td>1</td>\n",
       "      <td>0</td>\n",
       "      <td>0</td>\n",
       "      <td>0</td>\n",
       "      <td>0</td>\n",
       "      <td>0</td>\n",
       "    </tr>\n",
       "    <tr>\n",
       "      <th>1</th>\n",
       "      <td>God's Plan</td>\n",
       "      <td>98</td>\n",
       "      <td>198960</td>\n",
       "      <td>Drake</td>\n",
       "      <td>3TVXtAsR1Inumwj472S9r4</td>\n",
       "      <td>2018-01-20</td>\n",
       "      <td>100</td>\n",
       "      <td>18532180</td>\n",
       "      <td>0</td>\n",
       "      <td>1</td>\n",
       "      <td>1</td>\n",
       "      <td>0</td>\n",
       "      <td>0</td>\n",
       "      <td>0</td>\n",
       "      <td>0</td>\n",
       "      <td>0</td>\n",
       "      <td>0</td>\n",
       "      <td>0</td>\n",
       "      <td>1</td>\n",
       "      <td>0</td>\n",
       "      <td>0</td>\n",
       "      <td>1</td>\n",
       "      <td>0</td>\n",
       "      <td>1</td>\n",
       "      <td>0</td>\n",
       "      <td>0</td>\n",
       "      <td>0</td>\n",
       "      <td>0</td>\n",
       "      <td>0</td>\n",
       "    </tr>\n",
       "    <tr>\n",
       "      <th>2</th>\n",
       "      <td>JAPAN</td>\n",
       "      <td>87</td>\n",
       "      <td>144149</td>\n",
       "      <td>Famous Dex</td>\n",
       "      <td>0WOxhx4hikIsyF3CRPLC8W</td>\n",
       "      <td>2018-03-16</td>\n",
       "      <td>81</td>\n",
       "      <td>534457</td>\n",
       "      <td>0</td>\n",
       "      <td>0</td>\n",
       "      <td>0</td>\n",
       "      <td>0</td>\n",
       "      <td>0</td>\n",
       "      <td>0</td>\n",
       "      <td>1</td>\n",
       "      <td>1</td>\n",
       "      <td>0</td>\n",
       "      <td>0</td>\n",
       "      <td>0</td>\n",
       "      <td>0</td>\n",
       "      <td>0</td>\n",
       "      <td>0</td>\n",
       "      <td>0</td>\n",
       "      <td>1</td>\n",
       "      <td>1</td>\n",
       "      <td>1</td>\n",
       "      <td>0</td>\n",
       "      <td>1</td>\n",
       "      <td>1</td>\n",
       "    </tr>\n",
       "    <tr>\n",
       "      <th>3</th>\n",
       "      <td>PICK IT UP (feat. A$AP Rocky)</td>\n",
       "      <td>90</td>\n",
       "      <td>191251</td>\n",
       "      <td>Famous Dex</td>\n",
       "      <td>0WOxhx4hikIsyF3CRPLC8W</td>\n",
       "      <td>2017-10-20</td>\n",
       "      <td>81</td>\n",
       "      <td>534457</td>\n",
       "      <td>0</td>\n",
       "      <td>0</td>\n",
       "      <td>0</td>\n",
       "      <td>0</td>\n",
       "      <td>0</td>\n",
       "      <td>0</td>\n",
       "      <td>1</td>\n",
       "      <td>1</td>\n",
       "      <td>0</td>\n",
       "      <td>0</td>\n",
       "      <td>0</td>\n",
       "      <td>0</td>\n",
       "      <td>0</td>\n",
       "      <td>0</td>\n",
       "      <td>0</td>\n",
       "      <td>1</td>\n",
       "      <td>1</td>\n",
       "      <td>1</td>\n",
       "      <td>0</td>\n",
       "      <td>1</td>\n",
       "      <td>1</td>\n",
       "    </tr>\n",
       "    <tr>\n",
       "      <th>4</th>\n",
       "      <td>Plug Walk</td>\n",
       "      <td>90</td>\n",
       "      <td>175510</td>\n",
       "      <td>Rich The Kid</td>\n",
       "      <td>1pPmIToKXyGdsCF6LmqLmI</td>\n",
       "      <td>2018-02-08</td>\n",
       "      <td>91</td>\n",
       "      <td>1922259</td>\n",
       "      <td>0</td>\n",
       "      <td>0</td>\n",
       "      <td>0</td>\n",
       "      <td>0</td>\n",
       "      <td>0</td>\n",
       "      <td>0</td>\n",
       "      <td>0</td>\n",
       "      <td>0</td>\n",
       "      <td>0</td>\n",
       "      <td>0</td>\n",
       "      <td>0</td>\n",
       "      <td>0</td>\n",
       "      <td>1</td>\n",
       "      <td>0</td>\n",
       "      <td>0</td>\n",
       "      <td>0</td>\n",
       "      <td>0</td>\n",
       "      <td>0</td>\n",
       "      <td>0</td>\n",
       "      <td>0</td>\n",
       "      <td>0</td>\n",
       "    </tr>\n",
       "  </tbody>\n",
       "</table>\n",
       "</div>"
      ],
      "text/plain": [
       "                      track_name track_popularity track_duration  \\\n",
       "0                  Nice For What               85         210925   \n",
       "1                     God's Plan               98         198960   \n",
       "2                          JAPAN               87         144149   \n",
       "3  PICK IT UP (feat. A$AP Rocky)               90         191251   \n",
       "4                      Plug Walk               90         175510   \n",
       "\n",
       "    artist_name               artist_id album_release_date artist_popularity  \\\n",
       "0         Drake  3TVXtAsR1Inumwj472S9r4         2018-04-06               100   \n",
       "1         Drake  3TVXtAsR1Inumwj472S9r4         2018-01-20               100   \n",
       "2    Famous Dex  0WOxhx4hikIsyF3CRPLC8W         2018-03-16                81   \n",
       "3    Famous Dex  0WOxhx4hikIsyF3CRPLC8W         2017-10-20                81   \n",
       "4  Rich The Kid  1pPmIToKXyGdsCF6LmqLmI         2018-02-08                91   \n",
       "\n",
       "  artist_followers  boston rock  canadian hip hop  canadian pop  dance pop  \\\n",
       "0         18532180            0                 1             1          0   \n",
       "1         18532180            0                 1             1          0   \n",
       "2           534457            0                 0             0          0   \n",
       "3           534457            0                 0             0          0   \n",
       "4          1922259            0                 0             0          0   \n",
       "\n",
       "   deep trap  dirty south rap  drill  dwn trap  east coast hip hop  \\\n",
       "0          0                0      0         0                   0   \n",
       "1          0                0      0         0                   0   \n",
       "2          0                0      1         1                   0   \n",
       "3          0                0      1         1                   0   \n",
       "4          0                0      0         0                   0   \n",
       "\n",
       "   gangster rap  hip hop  indie r&b  pop  pop rap  r&b  rap  southern hip hop  \\\n",
       "0             0        1          0    0        1    0    1                 0   \n",
       "1             0        1          0    0        1    0    1                 0   \n",
       "2             0        0          0    0        0    0    1                 1   \n",
       "3             0        0          0    0        0    0    1                 1   \n",
       "4             0        0          0    1        0    0    0                 0   \n",
       "\n",
       "   trap music  trap soul  underground hip hop  vapor trap  \n",
       "0           0          0                    0           0  \n",
       "1           0          0                    0           0  \n",
       "2           1          0                    1           1  \n",
       "3           1          0                    1           1  \n",
       "4           0          0                    0           0  "
      ]
     },
     "execution_count": 701,
     "metadata": {},
     "output_type": "execute_result"
    }
   ],
   "source": [
    "df = pd.merge(df_track[['track_name', 'track_popularity', 'track_duration', \n",
    "       'artist_name', 'artist_id',\n",
    "       'album_release_date']],\n",
    "         df_artist[[ 'artist_id', 'artist_popularity', 'artist_followers',\n",
    "       'boston rock', 'canadian hip hop', 'canadian pop', 'dance pop',\n",
    "       'deep trap', 'dirty south rap', 'drill', 'dwn trap',\n",
    "       'east coast hip hop', 'gangster rap', 'hip hop', 'indie r&b', 'pop',\n",
    "       'pop rap', 'r&b', 'rap', 'southern hip hop', 'trap music', 'trap soul',\n",
    "       'underground hip hop', 'vapor trap']], on = 'artist_id')\n",
    "df.head()"
   ]
  },
  {
   "cell_type": "code",
   "execution_count": null,
   "metadata": {},
   "outputs": [],
   "source": []
  }
 ],
 "metadata": {
  "kernelspec": {
   "display_name": "Python 3",
   "language": "python",
   "name": "python3"
  },
  "language_info": {
   "codemirror_mode": {
    "name": "ipython",
    "version": 3
   },
   "file_extension": ".py",
   "mimetype": "text/x-python",
   "name": "python",
   "nbconvert_exporter": "python",
   "pygments_lexer": "ipython3",
   "version": "3.6.4"
  }
 },
 "nbformat": 4,
 "nbformat_minor": 2
}
